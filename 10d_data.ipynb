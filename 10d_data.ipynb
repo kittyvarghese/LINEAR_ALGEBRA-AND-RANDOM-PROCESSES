{
  "nbformat": 4,
  "nbformat_minor": 0,
  "metadata": {
    "colab": {
      "name": "10d_data.ipynb",
      "provenance": [],
      "collapsed_sections": []
    },
    "kernelspec": {
      "name": "python3",
      "display_name": "Python 3"
    }
  },
  "cells": [
    {
      "cell_type": "markdown",
      "metadata": {
        "id": "bSww0jifTw6I",
        "colab_type": "text"
      },
      "source": [
        "**For a 10 dimensional data set. Following experiments were done:**\n",
        "\n",
        "\n",
        "*   Project the data points onto the top two singular values, then plot the data in this reduced dimensionality space.\n",
        "*  Is the information lost by reducing to 2-dimension less than 10%? If not, how many singular vectors are required to capture 90% of the information? \n",
        "\n"
      ]
    },
    {
      "cell_type": "code",
      "metadata": {
        "id": "jh7hLavW2dw4",
        "colab_type": "code",
        "colab": {}
      },
      "source": [
        "import numpy as np\n",
        "import pandas as pd \n",
        "import matplotlib.pyplot as plt"
      ],
      "execution_count": 0,
      "outputs": []
    },
    {
      "cell_type": "code",
      "metadata": {
        "id": "jI8z0mlb7ap2",
        "colab_type": "code",
        "colab": {}
      },
      "source": [
        "from google.colab import drive\n",
        "drive.mount('/content/drive')\n"
      ],
      "execution_count": 0,
      "outputs": []
    },
    {
      "cell_type": "code",
      "metadata": {
        "id": "Z6Ni_EIn7bXj",
        "colab_type": "code",
        "colab": {}
      },
      "source": [
        "data ='LARP_ASS1/Dataset_2_Team_29.csv'\n"
      ],
      "execution_count": 0,
      "outputs": []
    },
    {
      "cell_type": "code",
      "metadata": {
        "id": "bBpxnuk48Ic7",
        "colab_type": "code",
        "colab": {}
      },
      "source": [
        "x=pd.read_csv(data)"
      ],
      "execution_count": 0,
      "outputs": []
    },
    {
      "cell_type": "code",
      "metadata": {
        "id": "D7F7sYdC_rSx",
        "colab_type": "code",
        "outputId": "dcef5b24-3ff6-4973-f1dd-5dd07b8bff80",
        "colab": {
          "base_uri": "https://localhost:8080/",
          "height": 197
        }
      },
      "source": [
        "x.head()"
      ],
      "execution_count": 0,
      "outputs": [
        {
          "output_type": "execute_result",
          "data": {
            "text/html": [
              "<div>\n",
              "<style scoped>\n",
              "    .dataframe tbody tr th:only-of-type {\n",
              "        vertical-align: middle;\n",
              "    }\n",
              "\n",
              "    .dataframe tbody tr th {\n",
              "        vertical-align: top;\n",
              "    }\n",
              "\n",
              "    .dataframe thead th {\n",
              "        text-align: right;\n",
              "    }\n",
              "</style>\n",
              "<table border=\"1\" class=\"dataframe\">\n",
              "  <thead>\n",
              "    <tr style=\"text-align: right;\">\n",
              "      <th></th>\n",
              "      <th>Unnamed: 0</th>\n",
              "      <th>X1</th>\n",
              "      <th>X2</th>\n",
              "      <th>X3</th>\n",
              "      <th>X4</th>\n",
              "      <th>X5</th>\n",
              "      <th>X6</th>\n",
              "      <th>X7</th>\n",
              "      <th>X8</th>\n",
              "      <th>X9</th>\n",
              "      <th>X10</th>\n",
              "    </tr>\n",
              "  </thead>\n",
              "  <tbody>\n",
              "    <tr>\n",
              "      <th>0</th>\n",
              "      <td>sample1</td>\n",
              "      <td>79</td>\n",
              "      <td>86</td>\n",
              "      <td>84</td>\n",
              "      <td>82</td>\n",
              "      <td>89</td>\n",
              "      <td>62</td>\n",
              "      <td>91</td>\n",
              "      <td>94</td>\n",
              "      <td>84</td>\n",
              "      <td>80</td>\n",
              "    </tr>\n",
              "    <tr>\n",
              "      <th>1</th>\n",
              "      <td>sample2</td>\n",
              "      <td>81</td>\n",
              "      <td>92</td>\n",
              "      <td>94</td>\n",
              "      <td>67</td>\n",
              "      <td>94</td>\n",
              "      <td>87</td>\n",
              "      <td>73</td>\n",
              "      <td>73</td>\n",
              "      <td>73</td>\n",
              "      <td>101</td>\n",
              "    </tr>\n",
              "    <tr>\n",
              "      <th>2</th>\n",
              "      <td>sample3</td>\n",
              "      <td>47</td>\n",
              "      <td>35</td>\n",
              "      <td>49</td>\n",
              "      <td>33</td>\n",
              "      <td>49</td>\n",
              "      <td>59</td>\n",
              "      <td>45</td>\n",
              "      <td>37</td>\n",
              "      <td>45</td>\n",
              "      <td>45</td>\n",
              "    </tr>\n",
              "    <tr>\n",
              "      <th>3</th>\n",
              "      <td>sample4</td>\n",
              "      <td>75</td>\n",
              "      <td>74</td>\n",
              "      <td>69</td>\n",
              "      <td>63</td>\n",
              "      <td>74</td>\n",
              "      <td>80</td>\n",
              "      <td>76</td>\n",
              "      <td>86</td>\n",
              "      <td>71</td>\n",
              "      <td>82</td>\n",
              "    </tr>\n",
              "    <tr>\n",
              "      <th>4</th>\n",
              "      <td>sample5</td>\n",
              "      <td>18</td>\n",
              "      <td>26</td>\n",
              "      <td>20</td>\n",
              "      <td>21</td>\n",
              "      <td>16</td>\n",
              "      <td>23</td>\n",
              "      <td>26</td>\n",
              "      <td>12</td>\n",
              "      <td>27</td>\n",
              "      <td>27</td>\n",
              "    </tr>\n",
              "  </tbody>\n",
              "</table>\n",
              "</div>"
            ],
            "text/plain": [
              "  Unnamed: 0  X1  X2  X3  X4  X5  X6  X7  X8  X9  X10\n",
              "0    sample1  79  86  84  82  89  62  91  94  84   80\n",
              "1    sample2  81  92  94  67  94  87  73  73  73  101\n",
              "2    sample3  47  35  49  33  49  59  45  37  45   45\n",
              "3    sample4  75  74  69  63  74  80  76  86  71   82\n",
              "4    sample5  18  26  20  21  16  23  26  12  27   27"
            ]
          },
          "metadata": {
            "tags": []
          },
          "execution_count": 5
        }
      ]
    },
    {
      "cell_type": "code",
      "metadata": {
        "id": "3A0U0M268PxQ",
        "colab_type": "code",
        "colab": {}
      },
      "source": [
        "x=x.iloc[:,1:].values\n"
      ],
      "execution_count": 0,
      "outputs": []
    },
    {
      "cell_type": "code",
      "metadata": {
        "id": "o8DrI3qY8SaG",
        "colab_type": "code",
        "colab": {}
      },
      "source": [
        "mean=np.mean(x,axis=0)\n",
        "m=np.transpose(np.reshape(mean,[10,1]))\n",
        "m=np.tile(m,(100,1))\n",
        "std=np.std(x,axis=0)\n",
        "std=np.transpose(np.reshape(std,[10,1]))\n",
        "std=np.tile(std,(100,1))\n"
      ],
      "execution_count": 0,
      "outputs": []
    },
    {
      "cell_type": "code",
      "metadata": {
        "id": "-uav_KXQ_gA9",
        "colab_type": "code",
        "outputId": "7611bb6c-cba1-4952-ec69-1485d409cf3b",
        "colab": {
          "base_uri": "https://localhost:8080/",
          "height": 70
        }
      },
      "source": [
        "X=x-mean/std\n",
        "X=np.transpose(X)\n",
        "Covariance=np.cov(X,bias=True)\n",
        "eigvals,eigvecs=np.linalg.eigh(Covariance)\n",
        "eigvecs.shape\n",
        "eigvals"
      ],
      "execution_count": 0,
      "outputs": [
        {
          "output_type": "execute_result",
          "data": {
            "text/plain": [
              "array([  23.10165011,   29.81476706,   34.1971931 ,   39.72852457,\n",
              "         53.46475192,   56.74788347,   61.99615758,   73.47698977,\n",
              "         81.06543414, 8533.50374829])"
            ]
          },
          "metadata": {
            "tags": []
          },
          "execution_count": 8
        }
      ]
    },
    {
      "cell_type": "code",
      "metadata": {
        "id": "VWp-5VCzCZzS",
        "colab_type": "code",
        "outputId": "999a7409-3590-4508-9bbc-caf58fe15183",
        "colab": {
          "base_uri": "https://localhost:8080/",
          "height": 34
        }
      },
      "source": [
        "idx = eigvals.argsort()[::-1]   \n",
        "eigvals = eigvals[idx]\n",
        "eigvecs = eigvecs[idx,:]\n",
        "eigvals\n",
        "eigvecs.shape"
      ],
      "execution_count": 0,
      "outputs": [
        {
          "output_type": "execute_result",
          "data": {
            "text/plain": [
              "(10, 10)"
            ]
          },
          "metadata": {
            "tags": []
          },
          "execution_count": 65
        }
      ]
    },
    {
      "cell_type": "code",
      "metadata": {
        "id": "7QSbgqzYfsHx",
        "colab_type": "code",
        "colab": {}
      },
      "source": [
        "def projection(X,eigvecs,k):\n",
        "  temp=eigvecs[:k,:]\n",
        "  print('eigvec',eigvecs.shape)\n",
        "  print(temp.shape)\n",
        "  scalar=temp@X\n",
        "  return scalar\n",
        "  \n",
        "    \n",
        "  \n"
      ],
      "execution_count": 0,
      "outputs": []
    },
    {
      "cell_type": "code",
      "metadata": {
        "id": "IQL84ou9ftpb",
        "colab_type": "code",
        "outputId": "7eb7b3e0-9666-4c86-8858-de47aad74b0d",
        "colab": {
          "base_uri": "https://localhost:8080/",
          "height": 70
        }
      },
      "source": [
        "projected=projection(X,eigvecs,2)\n",
        "projected=np.transpose(projected)\n",
        "projected.shape"
      ],
      "execution_count": 0,
      "outputs": [
        {
          "output_type": "stream",
          "text": [
            "eigvec (10, 10)\n",
            "(2, 10)\n"
          ],
          "name": "stdout"
        },
        {
          "output_type": "execute_result",
          "data": {
            "text/plain": [
              "(100, 2)"
            ]
          },
          "metadata": {
            "tags": []
          },
          "execution_count": 96
        }
      ]
    },
    {
      "cell_type": "code",
      "metadata": {
        "id": "9RLjXEAL_BTa",
        "colab_type": "code",
        "colab": {}
      },
      "source": [
        "k1=eigvecs[0,:2]\n",
        "k2=eigvecs[1,:2]\n",
        "k1\n",
        "origin=[0,0]"
      ],
      "execution_count": 0,
      "outputs": []
    },
    {
      "cell_type": "code",
      "metadata": {
        "id": "1U_UH_WAwGwq",
        "colab_type": "code",
        "outputId": "e6acbfe9-20b3-4bca-b1de-202f253268fc",
        "colab": {
          "base_uri": "https://localhost:8080/",
          "height": 268
        }
      },
      "source": [
        "plt.scatter(projected[:,0], projected[:,1],label='projected data')\n",
        "plt.quiver(*origin,k1,k2,label='eigen vectors')\n",
        "plt.legend()\n",
        "plt.show()"
      ],
      "execution_count": 0,
      "outputs": [
        {
          "output_type": "display_data",
          "data": {
            "image/png": "[encoded data removed]",
            "text/plain": [
              "<Figure size 432x288 with 1 Axes>"
            ]
          },
          "metadata": {
            "tags": []
          }
        }
      ]
    },
    {
      "cell_type": "code",
      "metadata": {
        "id": "LQKzzuXXOgg6",
        "colab_type": "code",
        "outputId": "ac520cca-c429-4825-a8a6-b9859ee1c80b",
        "colab": {
          "base_uri": "https://localhost:8080/",
          "height": 52
        }
      },
      "source": [
        "scalar1=np.dot(eigvecs[0,:],X)\n",
        "scalar=np.reshape(scalar,[1,100])\n",
        "print('scalar',scalar.shape)\n",
        "vect=np.reshape(eigvecs[0,:],[10,1])\n",
        "projected=(vect*scalar)\n",
        "projected.shape\n",
        "projected=np.transpose(projected)\n",
        "np.sum(projected)"
      ],
      "execution_count": 0,
      "outputs": [
        {
          "output_type": "stream",
          "text": [
            "scalar (1, 100)\n"
          ],
          "name": "stdout"
        },
        {
          "output_type": "execute_result",
          "data": {
            "text/plain": [
              "8729.179908950966"
            ]
          },
          "metadata": {
            "tags": []
          },
          "execution_count": 40
        }
      ]
    },
    {
      "cell_type": "code",
      "metadata": {
        "id": "D_mkySRJjC3z",
        "colab_type": "code",
        "outputId": "cc9e1d11-5586-4ce6-8e2c-079c6f43e44b",
        "colab": {
          "base_uri": "https://localhost:8080/",
          "height": 34
        }
      },
      "source": [
        "X.shape"
      ],
      "execution_count": 0,
      "outputs": [
        {
          "output_type": "execute_result",
          "data": {
            "text/plain": [
              "(10, 100)"
            ]
          },
          "metadata": {
            "tags": []
          },
          "execution_count": 21
        }
      ]
    }
  ]
}