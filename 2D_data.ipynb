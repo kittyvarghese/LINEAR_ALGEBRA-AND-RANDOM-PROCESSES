{
  "nbformat": 4,
  "nbformat_minor": 0,
  "metadata": {
    "colab": {
      "name": "2D_data.ipynb",
      "provenance": [],
      "collapsed_sections": []
    },
    "kernelspec": {
      "name": "python3",
      "display_name": "Python 3"
    }
  },
  "cells": [
    {
      "cell_type": "code",
      "metadata": {
        "id": "fdgO92LhUnII",
        "colab_type": "code",
        "colab": {}
      },
      "source": [
        "import numpy as np\n",
        "import pandas as pd \n",
        "import matplotlib.pyplot as plt\n"
      ],
      "execution_count": 0,
      "outputs": []
    },
    {
      "cell_type": "code",
      "metadata": {
        "id": "FFY0MpF8Uv4u",
        "colab_type": "code",
        "outputId": "07626994-f180-4bbd-9bf1-dbfda0538ef9",
        "colab": {
          "base_uri": "https://localhost:8080/",
          "height": 125
        }
      },
      "source": [
        "from google.colab import drive\n",
        "drive.mount('/content/drive')\n",
        "\n"
      ],
      "execution_count": 0,
      "outputs": [
        {
          "output_type": "stream",
          "text": [
            "Go to this URL in a browser: https://accounts.google.com/o/oauth2/auth?client_id=947318989803-6bn6qk8qdgf4n4g3pfee6491hc0brc4i.apps.googleusercontent.com&redirect_uri=urn%3Aietf%3Awg%3Aoauth%3A2.0%3Aoob&scope=email%20https%3A%2F%2Fwww.googleapis.com%2Fauth%2Fdocs.test%20https%3A%2F%2Fwww.googleapis.com%2Fauth%2Fdrive%20https%3A%2F%2Fwww.googleapis.com%2Fauth%2Fdrive.photos.readonly%20https%3A%2F%2Fwww.googleapis.com%2Fauth%2Fpeopleapi.readonly&response_type=code\n",
            "\n",
            "Enter your authorization code:\n",
            "··········\n",
            "Mounted at /content/drive\n"
          ],
          "name": "stdout"
        }
      ]
    },
    {
      "cell_type": "code",
      "metadata": {
        "id": "HgdSignfVJPR",
        "colab_type": "code",
        "colab": {}
      },
      "source": [
        "data ='/content/drive/My Drive/Colab Notebooks/LARP_ASS1/Dataset_1_Team_29.csv'\n"
      ],
      "execution_count": 0,
      "outputs": []
    },
    {
      "cell_type": "code",
      "metadata": {
        "id": "_ZN1MqzCYgEK",
        "colab_type": "code",
        "colab": {}
      },
      "source": [
        "x=pd.read_csv(data)\n",
        "x1=x.iloc[:,1].values\n",
        "x2=x.iloc[:,2].values\n",
        "\n"
      ],
      "execution_count": 0,
      "outputs": []
    },
    {
      "cell_type": "code",
      "metadata": {
        "id": "OZAiwyL9FB8k",
        "colab_type": "code",
        "outputId": "05ccf7ea-482a-49b4-8c31-bd0c4b00186e",
        "colab": {
          "base_uri": "https://localhost:8080/",
          "height": 1000
        }
      },
      "source": [
        "x\n"
      ],
      "execution_count": 0,
      "outputs": [
        {
          "output_type": "execute_result",
          "data": {
            "text/html": [
              "<div>\n",
              "<style scoped>\n",
              "    .dataframe tbody tr th:only-of-type {\n",
              "        vertical-align: middle;\n",
              "    }\n",
              "\n",
              "    .dataframe tbody tr th {\n",
              "        vertical-align: top;\n",
              "    }\n",
              "\n",
              "    .dataframe thead th {\n",
              "        text-align: right;\n",
              "    }\n",
              "</style>\n",
              "<table border=\"1\" class=\"dataframe\">\n",
              "  <thead>\n",
              "    <tr style=\"text-align: right;\">\n",
              "      <th></th>\n",
              "      <th>Unnamed: 0</th>\n",
              "      <th>X1</th>\n",
              "      <th>X2</th>\n",
              "    </tr>\n",
              "  </thead>\n",
              "  <tbody>\n",
              "    <tr>\n",
              "      <th>0</th>\n",
              "      <td>sample1</td>\n",
              "      <td>57</td>\n",
              "      <td>67</td>\n",
              "    </tr>\n",
              "    <tr>\n",
              "      <th>1</th>\n",
              "      <td>sample2</td>\n",
              "      <td>93</td>\n",
              "      <td>83</td>\n",
              "    </tr>\n",
              "    <tr>\n",
              "      <th>2</th>\n",
              "      <td>sample3</td>\n",
              "      <td>77</td>\n",
              "      <td>49</td>\n",
              "    </tr>\n",
              "    <tr>\n",
              "      <th>3</th>\n",
              "      <td>sample4</td>\n",
              "      <td>19</td>\n",
              "      <td>21</td>\n",
              "    </tr>\n",
              "    <tr>\n",
              "      <th>4</th>\n",
              "      <td>sample5</td>\n",
              "      <td>92</td>\n",
              "      <td>77</td>\n",
              "    </tr>\n",
              "    <tr>\n",
              "      <th>5</th>\n",
              "      <td>sample6</td>\n",
              "      <td>35</td>\n",
              "      <td>45</td>\n",
              "    </tr>\n",
              "    <tr>\n",
              "      <th>6</th>\n",
              "      <td>sample7</td>\n",
              "      <td>46</td>\n",
              "      <td>32</td>\n",
              "    </tr>\n",
              "    <tr>\n",
              "      <th>7</th>\n",
              "      <td>sample8</td>\n",
              "      <td>100</td>\n",
              "      <td>88</td>\n",
              "    </tr>\n",
              "    <tr>\n",
              "      <th>8</th>\n",
              "      <td>sample9</td>\n",
              "      <td>22</td>\n",
              "      <td>37</td>\n",
              "    </tr>\n",
              "    <tr>\n",
              "      <th>9</th>\n",
              "      <td>sample10</td>\n",
              "      <td>81</td>\n",
              "      <td>84</td>\n",
              "    </tr>\n",
              "    <tr>\n",
              "      <th>10</th>\n",
              "      <td>sample11</td>\n",
              "      <td>79</td>\n",
              "      <td>82</td>\n",
              "    </tr>\n",
              "    <tr>\n",
              "      <th>11</th>\n",
              "      <td>sample12</td>\n",
              "      <td>7</td>\n",
              "      <td>16</td>\n",
              "    </tr>\n",
              "    <tr>\n",
              "      <th>12</th>\n",
              "      <td>sample13</td>\n",
              "      <td>81</td>\n",
              "      <td>83</td>\n",
              "    </tr>\n",
              "    <tr>\n",
              "      <th>13</th>\n",
              "      <td>sample14</td>\n",
              "      <td>41</td>\n",
              "      <td>39</td>\n",
              "    </tr>\n",
              "    <tr>\n",
              "      <th>14</th>\n",
              "      <td>sample15</td>\n",
              "      <td>69</td>\n",
              "      <td>64</td>\n",
              "    </tr>\n",
              "    <tr>\n",
              "      <th>15</th>\n",
              "      <td>sample16</td>\n",
              "      <td>17</td>\n",
              "      <td>12</td>\n",
              "    </tr>\n",
              "    <tr>\n",
              "      <th>16</th>\n",
              "      <td>sample17</td>\n",
              "      <td>29</td>\n",
              "      <td>29</td>\n",
              "    </tr>\n",
              "    <tr>\n",
              "      <th>17</th>\n",
              "      <td>sample18</td>\n",
              "      <td>67</td>\n",
              "      <td>70</td>\n",
              "    </tr>\n",
              "    <tr>\n",
              "      <th>18</th>\n",
              "      <td>sample19</td>\n",
              "      <td>45</td>\n",
              "      <td>50</td>\n",
              "    </tr>\n",
              "    <tr>\n",
              "      <th>19</th>\n",
              "      <td>sample20</td>\n",
              "      <td>84</td>\n",
              "      <td>65</td>\n",
              "    </tr>\n",
              "    <tr>\n",
              "      <th>20</th>\n",
              "      <td>sample21</td>\n",
              "      <td>6</td>\n",
              "      <td>0</td>\n",
              "    </tr>\n",
              "    <tr>\n",
              "      <th>21</th>\n",
              "      <td>sample22</td>\n",
              "      <td>53</td>\n",
              "      <td>59</td>\n",
              "    </tr>\n",
              "    <tr>\n",
              "      <th>22</th>\n",
              "      <td>sample23</td>\n",
              "      <td>12</td>\n",
              "      <td>17</td>\n",
              "    </tr>\n",
              "    <tr>\n",
              "      <th>23</th>\n",
              "      <td>sample24</td>\n",
              "      <td>42</td>\n",
              "      <td>51</td>\n",
              "    </tr>\n",
              "    <tr>\n",
              "      <th>24</th>\n",
              "      <td>sample25</td>\n",
              "      <td>20</td>\n",
              "      <td>18</td>\n",
              "    </tr>\n",
              "    <tr>\n",
              "      <th>25</th>\n",
              "      <td>sample26</td>\n",
              "      <td>100</td>\n",
              "      <td>108</td>\n",
              "    </tr>\n",
              "    <tr>\n",
              "      <th>26</th>\n",
              "      <td>sample27</td>\n",
              "      <td>54</td>\n",
              "      <td>68</td>\n",
              "    </tr>\n",
              "    <tr>\n",
              "      <th>27</th>\n",
              "      <td>sample28</td>\n",
              "      <td>15</td>\n",
              "      <td>21</td>\n",
              "    </tr>\n",
              "    <tr>\n",
              "      <th>28</th>\n",
              "      <td>sample29</td>\n",
              "      <td>74</td>\n",
              "      <td>80</td>\n",
              "    </tr>\n",
              "    <tr>\n",
              "      <th>29</th>\n",
              "      <td>sample30</td>\n",
              "      <td>41</td>\n",
              "      <td>44</td>\n",
              "    </tr>\n",
              "    <tr>\n",
              "      <th>30</th>\n",
              "      <td>sample31</td>\n",
              "      <td>64</td>\n",
              "      <td>69</td>\n",
              "    </tr>\n",
              "    <tr>\n",
              "      <th>31</th>\n",
              "      <td>sample32</td>\n",
              "      <td>36</td>\n",
              "      <td>29</td>\n",
              "    </tr>\n",
              "    <tr>\n",
              "      <th>32</th>\n",
              "      <td>sample33</td>\n",
              "      <td>18</td>\n",
              "      <td>22</td>\n",
              "    </tr>\n",
              "    <tr>\n",
              "      <th>33</th>\n",
              "      <td>sample34</td>\n",
              "      <td>26</td>\n",
              "      <td>27</td>\n",
              "    </tr>\n",
              "    <tr>\n",
              "      <th>34</th>\n",
              "      <td>sample35</td>\n",
              "      <td>49</td>\n",
              "      <td>68</td>\n",
              "    </tr>\n",
              "    <tr>\n",
              "      <th>35</th>\n",
              "      <td>sample36</td>\n",
              "      <td>67</td>\n",
              "      <td>64</td>\n",
              "    </tr>\n",
              "    <tr>\n",
              "      <th>36</th>\n",
              "      <td>sample37</td>\n",
              "      <td>24</td>\n",
              "      <td>28</td>\n",
              "    </tr>\n",
              "    <tr>\n",
              "      <th>37</th>\n",
              "      <td>sample38</td>\n",
              "      <td>52</td>\n",
              "      <td>57</td>\n",
              "    </tr>\n",
              "    <tr>\n",
              "      <th>38</th>\n",
              "      <td>sample39</td>\n",
              "      <td>38</td>\n",
              "      <td>55</td>\n",
              "    </tr>\n",
              "    <tr>\n",
              "      <th>39</th>\n",
              "      <td>sample40</td>\n",
              "      <td>32</td>\n",
              "      <td>23</td>\n",
              "    </tr>\n",
              "    <tr>\n",
              "      <th>40</th>\n",
              "      <td>sample41</td>\n",
              "      <td>33</td>\n",
              "      <td>18</td>\n",
              "    </tr>\n",
              "    <tr>\n",
              "      <th>41</th>\n",
              "      <td>sample42</td>\n",
              "      <td>85</td>\n",
              "      <td>86</td>\n",
              "    </tr>\n",
              "    <tr>\n",
              "      <th>42</th>\n",
              "      <td>sample43</td>\n",
              "      <td>3</td>\n",
              "      <td>5</td>\n",
              "    </tr>\n",
              "    <tr>\n",
              "      <th>43</th>\n",
              "      <td>sample44</td>\n",
              "      <td>106</td>\n",
              "      <td>85</td>\n",
              "    </tr>\n",
              "    <tr>\n",
              "      <th>44</th>\n",
              "      <td>sample45</td>\n",
              "      <td>7</td>\n",
              "      <td>10</td>\n",
              "    </tr>\n",
              "    <tr>\n",
              "      <th>45</th>\n",
              "      <td>sample46</td>\n",
              "      <td>21</td>\n",
              "      <td>18</td>\n",
              "    </tr>\n",
              "    <tr>\n",
              "      <th>46</th>\n",
              "      <td>sample47</td>\n",
              "      <td>34</td>\n",
              "      <td>39</td>\n",
              "    </tr>\n",
              "    <tr>\n",
              "      <th>47</th>\n",
              "      <td>sample48</td>\n",
              "      <td>54</td>\n",
              "      <td>51</td>\n",
              "    </tr>\n",
              "    <tr>\n",
              "      <th>48</th>\n",
              "      <td>sample49</td>\n",
              "      <td>69</td>\n",
              "      <td>67</td>\n",
              "    </tr>\n",
              "    <tr>\n",
              "      <th>49</th>\n",
              "      <td>sample50</td>\n",
              "      <td>81</td>\n",
              "      <td>79</td>\n",
              "    </tr>\n",
              "  </tbody>\n",
              "</table>\n",
              "</div>"
            ],
            "text/plain": [
              "   Unnamed: 0   X1   X2\n",
              "0     sample1   57   67\n",
              "1     sample2   93   83\n",
              "2     sample3   77   49\n",
              "3     sample4   19   21\n",
              "4     sample5   92   77\n",
              "5     sample6   35   45\n",
              "6     sample7   46   32\n",
              "7     sample8  100   88\n",
              "8     sample9   22   37\n",
              "9    sample10   81   84\n",
              "10   sample11   79   82\n",
              "11   sample12    7   16\n",
              "12   sample13   81   83\n",
              "13   sample14   41   39\n",
              "14   sample15   69   64\n",
              "15   sample16   17   12\n",
              "16   sample17   29   29\n",
              "17   sample18   67   70\n",
              "18   sample19   45   50\n",
              "19   sample20   84   65\n",
              "20   sample21    6    0\n",
              "21   sample22   53   59\n",
              "22   sample23   12   17\n",
              "23   sample24   42   51\n",
              "24   sample25   20   18\n",
              "25   sample26  100  108\n",
              "26   sample27   54   68\n",
              "27   sample28   15   21\n",
              "28   sample29   74   80\n",
              "29   sample30   41   44\n",
              "30   sample31   64   69\n",
              "31   sample32   36   29\n",
              "32   sample33   18   22\n",
              "33   sample34   26   27\n",
              "34   sample35   49   68\n",
              "35   sample36   67   64\n",
              "36   sample37   24   28\n",
              "37   sample38   52   57\n",
              "38   sample39   38   55\n",
              "39   sample40   32   23\n",
              "40   sample41   33   18\n",
              "41   sample42   85   86\n",
              "42   sample43    3    5\n",
              "43   sample44  106   85\n",
              "44   sample45    7   10\n",
              "45   sample46   21   18\n",
              "46   sample47   34   39\n",
              "47   sample48   54   51\n",
              "48   sample49   69   67\n",
              "49   sample50   81   79"
            ]
          },
          "metadata": {
            "tags": []
          },
          "execution_count": 5
        }
      ]
    },
    {
      "cell_type": "code",
      "metadata": {
        "id": "LfXot8GmhdGB",
        "colab_type": "code",
        "outputId": "cc0975a8-00f7-44e4-85bb-55b92f4bf822",
        "colab": {
          "base_uri": "https://localhost:8080/",
          "height": 34
        }
      },
      "source": [
        "# x1_bar=np.mean(x1)\n",
        "# x2_bar=np.mean(x2)\n",
        "# x1_bar,x2_bar"
      ],
      "execution_count": 0,
      "outputs": [
        {
          "output_type": "execute_result",
          "data": {
            "text/plain": [
              "(49.14, 49.18)"
            ]
          },
          "metadata": {
            "tags": []
          },
          "execution_count": 6
        }
      ]
    },
    {
      "cell_type": "code",
      "metadata": {
        "id": "7L0GNJWE7pgW",
        "colab_type": "code",
        "outputId": "cc58634f-f08d-4b1a-d42e-15cc4e0c4ae7",
        "colab": {
          "base_uri": "https://localhost:8080/",
          "height": 34
        }
      },
      "source": [
        "# x1_std=np.std(x1)\n",
        "# x2_std=np.std(x2)\n",
        "# x1_std,x2_std"
      ],
      "execution_count": 0,
      "outputs": [
        {
          "output_type": "execute_result",
          "data": {
            "text/plain": [
              "(28.361248209484717, 26.704823534335514)"
            ]
          },
          "metadata": {
            "tags": []
          },
          "execution_count": 7
        }
      ]
    },
    {
      "cell_type": "code",
      "metadata": {
        "id": "_cfVCJzVhc8-",
        "colab_type": "code",
        "outputId": "80772141-1920-4c4d-8714-dc5faa8216e7",
        "colab": {
          "base_uri": "https://localhost:8080/",
          "height": 34
        }
      },
      "source": [
        "# x1_mean_adjusted=(x1-x1_bar)/x1_std\n",
        "# x2_mean_adjusted=(x2-x2_bar)/x2_std\n",
        "X=np.vstack([x1,x2])\n",
        "X.shape\n",
        "# X5=np.transpose(X)\n",
        "# X5"
      ],
      "execution_count": 0,
      "outputs": [
        {
          "output_type": "execute_result",
          "data": {
            "text/plain": [
              "(2, 50)"
            ]
          },
          "metadata": {
            "tags": []
          },
          "execution_count": 6
        }
      ]
    },
    {
      "cell_type": "code",
      "metadata": {
        "id": "GmvSmVMZ3SPd",
        "colab_type": "code",
        "outputId": "d3872361-39c9-4add-900a-668f3e7c89f8",
        "colab": {
          "base_uri": "https://localhost:8080/",
          "height": 52
        }
      },
      "source": [
        "Covariance=np.dot(X,np.transpose(X))\n",
        "# Covariance=Covariance/50\n",
        "Covariance"
      ],
      "execution_count": 0,
      "outputs": [
        {
          "output_type": "execute_result",
          "data": {
            "text/plain": [
              "array([[160955, 156495],\n",
              "       [156495, 156591]])"
            ]
          },
          "metadata": {
            "tags": []
          },
          "execution_count": 7
        }
      ]
    },
    {
      "cell_type": "code",
      "metadata": {
        "id": "DUBB-aFfove3",
        "colab_type": "code",
        "outputId": "6a905dcd-ccee-4ece-b545-b091693c05c7",
        "colab": {
          "base_uri": "https://localhost:8080/",
          "height": 34
        }
      },
      "source": [
        "# Covariance=np.cov(X,bias=True)\n",
        "eigvals,eigvecs=np.linalg.eigh(Covariance)\n",
        "eigvecs\n",
        "eigvals\n",
        "# Covariance"
      ],
      "execution_count": 0,
      "outputs": [
        {
          "output_type": "execute_result",
          "data": {
            "text/plain": [
              "array([  2262.78899446, 315283.21100554])"
            ]
          },
          "metadata": {
            "tags": []
          },
          "execution_count": 8
        }
      ]
    },
    {
      "cell_type": "code",
      "metadata": {
        "id": "vIup3gFD3FTK",
        "colab_type": "code",
        "colab": {}
      },
      "source": [
        ""
      ],
      "execution_count": 0,
      "outputs": []
    },
    {
      "cell_type": "code",
      "metadata": {
        "id": "U4amqrrUFTFU",
        "colab_type": "code",
        "colab": {}
      },
      "source": [
        "\n",
        "origin = [50], [50] "
      ],
      "execution_count": 0,
      "outputs": []
    },
    {
      "cell_type": "code",
      "metadata": {
        "id": "MvFMVjocKEYV",
        "colab_type": "code",
        "colab": {}
      },
      "source": [
        "k1=eigvecs[:,0]\n",
        "\n",
        "k2=eigvecs[:,1]"
      ],
      "execution_count": 0,
      "outputs": []
    },
    {
      "cell_type": "code",
      "metadata": {
        "id": "VQuB2drPYrEr",
        "colab_type": "code",
        "outputId": "68371a45-2564-4392-e043-025d522f9603",
        "colab": {
          "base_uri": "https://localhost:8080/",
          "height": 294
        }
      },
      "source": [
        "plt.scatter(x1, x2,label='original data')\n",
        "plt.title('Plot of dataset and singular vector')\n",
        "plt.xlabel('x1')\n",
        "plt.ylabel('x2')\n",
        "plt.ylim(0,100)\n",
        "plt.xlim(0,100)\n",
        "# plt.plot(eigvecs[0,:],label='eigen vectors')\n",
        "# plt.plot(k1,k2)\n",
        "plt.quiver(*origin,k1,k2,label='eigen vectors')\n",
        "plt.legend()\n",
        "plt.show()"
      ],
      "execution_count": 0,
      "outputs": [
        {
          "output_type": "display_data",
          "data": {
            "image/png": "[encoded data removed]",
            "text/plain": [
              "<Figure size 432x288 with 1 Axes>"
            ]
          },
          "metadata": {
            "tags": []
          }
        }
      ]
    },
    {
      "cell_type": "code",
      "metadata": {
        "id": "p7uIn4nL5H67",
        "colab_type": "code",
        "outputId": "fa92b12e-9933-46a9-a74e-64da738d8faf",
        "colab": {
          "base_uri": "https://localhost:8080/",
          "height": 70
        }
      },
      "source": [
        "idx = eigvals.argsort()[::-1]   \n",
        "print(idx)\n",
        "eigvals = eigvals[idx]\n",
        "eigvecs = eigvecs[idx,:]\n",
        "eigvals\n",
        "eigvecs\n"
      ],
      "execution_count": 0,
      "outputs": [
        {
          "output_type": "stream",
          "text": [
            "[1 0]\n"
          ],
          "name": "stdout"
        },
        {
          "output_type": "execute_result",
          "data": {
            "text/plain": [
              "array([[-0.71201881, -0.70216039],\n",
              "       [ 0.70216039, -0.71201881]])"
            ]
          },
          "metadata": {
            "tags": []
          },
          "execution_count": 18
        }
      ]
    },
    {
      "cell_type": "code",
      "metadata": {
        "id": "vxTdt7g55WQg",
        "colab_type": "code",
        "outputId": "7644eacb-de17-4073-9015-3e921a2bfbc5",
        "colab": {
          "base_uri": "https://localhost:8080/",
          "height": 34
        }
      },
      "source": [
        "# scalar=np.matmul(np.transpose(eigvecs[0,:]),X)\n",
        "scalar=np.dot(eigvecs[0,:],X)\n",
        "# # scalar=np.ravel(scalar)\n",
        "scalar=np.reshape(scalar,[1,50])\n",
        "print('scalar',scalar.shape)\n",
        "vect=np.reshape(eigvecs[0,:],[2,1])\n",
        "projected=(vect*scalar)\n",
        "projected.shape\n",
        "projected=np.transpose(projected)\n",
        "\n",
        "# projected=np.dot(scalar,np.transpose(vect))"
      ],
      "execution_count": 0,
      "outputs": [
        {
          "output_type": "stream",
          "text": [
            "scalar (1, 50)\n"
          ],
          "name": "stdout"
        }
      ]
    },
    {
      "cell_type": "code",
      "metadata": {
        "id": "CaZSiqW65BuP",
        "colab_type": "code",
        "outputId": "291d448d-aca3-4de6-ae75-7e532a073c36",
        "colab": {
          "base_uri": "https://localhost:8080/",
          "height": 294
        }
      },
      "source": [
        "plt.scatter(x1, x2,label='original data')\n",
        "plt.title('Plot of original as well as projected data')\n",
        "plt.xlabel('x1')\n",
        "plt.ylabel('x2')\n",
        "plt.scatter(projected[:,0], projected[:,1],label='projected data')\n",
        "plt.legend()\n",
        "plt.show()"
      ],
      "execution_count": 0,
      "outputs": [
        {
          "output_type": "display_data",
          "data": {
            "image/png": "[encoded data removed]",
            "text/plain": [
              "<Figure size 432x288 with 1 Axes>"
            ]
          },
          "metadata": {
            "tags": []
          }
        }
      ]
    },
    {
      "cell_type": "code",
      "metadata": {
        "id": "oTQRD7VjrpVb",
        "colab_type": "code",
        "outputId": "ec9a1838-293b-4409-ce2a-2bf08b195a8b",
        "colab": {
          "base_uri": "https://localhost:8080/",
          "height": 34
        }
      },
      "source": [
        "error=np.sum(eigvals[1])\n",
        "error"
      ],
      "execution_count": 0,
      "outputs": [
        {
          "output_type": "execute_result",
          "data": {
            "text/plain": [
              "2262.78899445571"
            ]
          },
          "metadata": {
            "tags": []
          },
          "execution_count": 22
        }
      ]
    },
    {
      "cell_type": "code",
      "metadata": {
        "id": "rMlMTB656byb",
        "colab_type": "code",
        "colab": {}
      },
      "source": [
        "#least square solution\n",
        "X=np.reshape(x1,[50,1])\n",
        "Y=np.reshape(x2,[50,1])\n",
        "\n",
        "M=np.matmul(np.matmul(np.linalg.inv(np.matmul(np.transpose(X),X)),np.transpose(X)),Y)\n",
        "L=np.matmul(X,M)\n"
      ],
      "execution_count": 0,
      "outputs": []
    },
    {
      "cell_type": "code",
      "metadata": {
        "id": "UnE0qzo161QM",
        "colab_type": "code",
        "outputId": "37e98968-ef8b-4778-ce63-067c83ba635c",
        "colab": {
          "base_uri": "https://localhost:8080/",
          "height": 294
        }
      },
      "source": [
        "plt.scatter(x1, x2,label='original data')\n",
        "plt.title('Plot of original as well as projected data and least square approximation')\n",
        "plt.xlabel('x1')\n",
        "plt.ylabel('x2')\n",
        "plt.scatter(projected[:,0], projected[:,1],label='projected data')\n",
        "plt.plot(X,L,label='least square approximation')\n",
        "plt.legend()\n",
        "plt.show()"
      ],
      "execution_count": 0,
      "outputs": [
        {
          "output_type": "display_data",
          "data": {
            "image/png": "[encoded data removed]",
            "text/plain": [
              "<Figure size 432x288 with 1 Axes>"
            ]
          },
          "metadata": {
            "tags": []
          }
        }
      ]
    },
    {
      "cell_type": "code",
      "metadata": {
        "id": "H81_zJISoLjl",
        "colab_type": "code",
        "colab": {}
      },
      "source": [
        "diff=Y-L\n",
        "err_OLS=(np.linalg.norm(diff,2)**2)/50\n",
        "\n",
        "     \n",
        "      "
      ],
      "execution_count": 0,
      "outputs": []
    },
    {
      "cell_type": "code",
      "metadata": {
        "id": "7izBDLV9Bo2d",
        "colab_type": "code",
        "outputId": "c6fbf0ab-c79a-49bb-e0be-5f56e81e686c",
        "colab": {
          "base_uri": "https://localhost:8080/",
          "height": 34
        }
      },
      "source": [
        "err_OLS"
      ],
      "execution_count": 0,
      "outputs": [
        {
          "output_type": "execute_result",
          "data": {
            "text/plain": [
              "88.64830294181606"
            ]
          },
          "metadata": {
            "tags": []
          },
          "execution_count": 46
        }
      ]
    },
    {
      "cell_type": "code",
      "metadata": {
        "id": "rVKl5dfKbw1o",
        "colab_type": "code",
        "colab": {}
      },
      "source": [
        ""
      ],
      "execution_count": 0,
      "outputs": []
    }
  ]
}